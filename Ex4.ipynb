{
  "nbformat": 4,
  "nbformat_minor": 0,
  "metadata": {
    "colab": {
      "name": "Ex4.ipynb",
      "provenance": [],
      "collapsed_sections": [],
      "mount_file_id": "1ROO00cF45nhAMFeHyz3q3NhiOMnpD7PA",
      "authorship_tag": "ABX9TyMkdBmRdE8zot7rhQsbDaOh",
      "include_colab_link": true
    },
    "kernelspec": {
      "name": "python3",
      "display_name": "Python 3"
    }
  },
  "cells": [
    {
      "cell_type": "markdown",
      "metadata": {
        "id": "view-in-github",
        "colab_type": "text"
      },
      "source": [
        "<a href=\"https://colab.research.google.com/github/VANHUUTHANHTRUNG/MLSmallProjects/blob/main/Ex4.ipynb\" target=\"_parent\"><img src=\"https://colab.research.google.com/assets/colab-badge.svg\" alt=\"Open In Colab\"/></a>"
      ]
    },
    {
      "cell_type": "code",
      "metadata": {
        "colab": {
          "base_uri": "https://localhost:8080/",
          "height": 0
        },
        "id": "On3Vg-q8obZ6",
        "outputId": "dde3c78c-9cc5-4f1a-ac8f-20d2120be3e7"
      },
      "source": [
        "%cd /content/drive/MyDrive/Colab\\ Notebooks/PRML/Set4"
      ],
      "execution_count": 8,
      "outputs": [
        {
          "output_type": "stream",
          "text": [
            "/content/drive/MyDrive/Colab Notebooks/PRML/Set4\n"
          ],
          "name": "stdout"
        }
      ]
    },
    {
      "cell_type": "markdown",
      "metadata": {
        "id": "YgfZWYIEpTTg"
      },
      "source": [
        "### Task 3"
      ]
    },
    {
      "cell_type": "code",
      "metadata": {
        "colab": {
          "base_uri": "https://localhost:8080/",
          "height": 2187
        },
        "id": "lE2gA3T5mEzo",
        "outputId": "73549378-d380-4d7f-ddab-08900e354d7c"
      },
      "source": [
        "# load required packages\n",
        "import numpy as np\n",
        "import matplotlib.pyplot as plt\n",
        "import pandas as pd\n",
        "\n",
        "def log_loss(w, X, y):\n",
        "  \"\"\"\n",
        "  Computes the log-loss function at w. The\n",
        "  computation uses the data in X with\n",
        "  corresponding labels in y.\n",
        "  \"\"\"\n",
        "  L = 0 # Accumulate loss terms here.\n",
        "  for i in range(len(X)):\n",
        "    L += np.log(1+ np.exp(-y[i]*np.transpose(w)@X[i]))\n",
        "  return L\n",
        "\n",
        "def grad(w, X, y):\n",
        "  \"\"\"\n",
        "  Computes the gradient of the log-loss function\n",
        "  at w. The computation uses the data in X with\n",
        "  corresponding labels in y.\n",
        "  \"\"\"\n",
        "  G = 0 # Accumulate gradient here.\n",
        "  for i in range(len(X)):\n",
        "    G -= 1/(1+np.exp(y[i]*np.transpose(w)@X[i]))*y[i]*X[i]\n",
        "  return G\n",
        "\n",
        "def getAccuracy(acc, pred):\n",
        "  return np.sum(acc == pred) / len(pred)\n",
        "\n",
        "if __name__ == \"__main__\":\n",
        "  # TODO: Add your code here:\n",
        "\n",
        "  # 1) Load X and y data:\n",
        "  X = np.loadtxt(\"X.csv\",delimiter=',')\n",
        "  y = np.loadtxt(\"y.csv\")\n",
        "\n",
        "  # 2) Initialize w at random:\n",
        "  np.random.seed(12)\n",
        "  w = np.random.rand(X.shape[1])\n",
        "\n",
        "  # 3) Set step_size to a small positive value\n",
        "  step_size = 0.002\n",
        "\n",
        "  # 4) Initialize empty lists for storing the path and\n",
        "  # accuracies:\n",
        "  w_array = []\n",
        "  accuracy_list= []\n",
        "  for iteration in range(100):\n",
        "\n",
        "  # 5) Apply the gradient descent rule:\n",
        "    w = w - step_size*grad(w,X,y)\n",
        "    w_array.append(w)\n",
        "  # 6) Print the current state:\n",
        "    print(f\"Iteration {iteration}: log-loss {log_loss(w,X,y)}\")\n",
        "\n",
        "    # 7) Compute the accuracy:\n",
        "    pred = []\n",
        "    for x in X:\n",
        "      if 1/(1+ np.exp(-np.transpose(w)@x)) >= 1/2:\n",
        "        pred.append(1)\n",
        "      else:\n",
        "        pred.append(-1)\n",
        "    accuracy_list.append(getAccuracy(y, pred))\n",
        "\n",
        "  # 8) Below is a template for plotting. Feel free to\n",
        "  # rewrite if you prefer different style:\n",
        "  w_array = np.array(w_array)\n",
        "  plt.figure(figsize=[5, 5])\n",
        "  plt.subplot(211)\n",
        "  plt.plot(w_array[:, 0], w_array[:, 1], 'ro-')\n",
        "  plt.xlabel('w$_0$')\n",
        "  plt.ylabel('w$_1$')\n",
        "  plt.title('Optimization path')\n",
        "  plt.subplot(212)\n",
        "  plt.plot(100.0 * np.array(accuracy_list), linewidth=2)\n",
        "  plt.ylabel('Accuracy / %')\n",
        "  plt.xlabel('Iteration')\n",
        "  plt.tight_layout()\n",
        "  plt.savefig(\"log_loss_minimization.pdf\", bbox_inches=\"tight\")"
      ],
      "execution_count": 10,
      "outputs": [
        {
          "output_type": "stream",
          "text": [
            "Iteration 0: log-loss 98.03256669820165\n",
            "Iteration 1: log-loss 91.34397561792775\n",
            "Iteration 2: log-loss 87.52681954706104\n",
            "Iteration 3: log-loss 85.00372029826187\n",
            "Iteration 4: log-loss 83.18746739091674\n",
            "Iteration 5: log-loss 81.80424087349144\n",
            "Iteration 6: log-loss 80.70785692184774\n",
            "Iteration 7: log-loss 79.81271420844024\n",
            "Iteration 8: log-loss 79.06515206011306\n",
            "Iteration 9: log-loss 78.42970551963091\n",
            "Iteration 10: log-loss 77.88191521733667\n",
            "Iteration 11: log-loss 77.40430608085776\n",
            "Iteration 12: log-loss 76.98401452424409\n",
            "Iteration 13: log-loss 76.61132528362197\n",
            "Iteration 14: log-loss 76.27873518393628\n",
            "Iteration 15: log-loss 75.98033484521041\n",
            "Iteration 16: log-loss 75.71138901656799\n",
            "Iteration 17: log-loss 75.46804478679817\n",
            "Iteration 18: log-loss 75.24712431450871\n",
            "Iteration 19: log-loss 75.04597473371082\n",
            "Iteration 20: log-loss 74.86235754665668\n",
            "Iteration 21: log-loss 74.69436580094867\n",
            "Iteration 22: log-loss 74.54036114985091\n",
            "Iteration 23: log-loss 74.39892536342325\n",
            "Iteration 24: log-loss 74.26882249312516\n",
            "Iteration 25: log-loss 74.1489689950374\n",
            "Iteration 26: log-loss 74.03840987249933\n",
            "Iteration 27: log-loss 73.93629942467422\n",
            "Iteration 28: log-loss 73.84188555835718\n",
            "Iteration 29: log-loss 73.75449688521172\n",
            "Iteration 30: log-loss 73.6735320180557\n",
            "Iteration 31: log-loss 73.59845061969996\n",
            "Iteration 32: log-loss 73.5287658611128\n",
            "Iteration 33: log-loss 73.46403802265422\n",
            "Iteration 34: log-loss 73.40386903002728\n",
            "Iteration 35: log-loss 73.34789776052874\n",
            "Iteration 36: log-loss 73.29579598879619\n",
            "Iteration 37: log-loss 73.24726486717351\n",
            "Iteration 38: log-loss 73.20203185596789\n",
            "Iteration 39: log-loss 73.15984803464897\n",
            "Iteration 40: log-loss 73.120485737483\n",
            "Iteration 41: log-loss 73.08373646698314\n",
            "Iteration 42: log-loss 73.0494090464602\n",
            "Iteration 43: log-loss 73.01732797932388\n",
            "Iteration 44: log-loss 72.98733198794658\n",
            "Iteration 45: log-loss 72.9592727091064\n",
            "Iteration 46: log-loss 72.93301352648109\n",
            "Iteration 47: log-loss 72.90842852351776\n",
            "Iteration 48: log-loss 72.88540154236932\n",
            "Iteration 49: log-loss 72.86382533656655\n",
            "Iteration 50: log-loss 72.84360080675589\n",
            "Iteration 51: log-loss 72.82463631023441\n",
            "Iteration 52: log-loss 72.8068470361994\n",
            "Iteration 53: log-loss 72.79015443964767\n",
            "Iteration 54: log-loss 72.77448572771829\n",
            "Iteration 55: log-loss 72.75977339302554\n",
            "Iteration 56: log-loss 72.74595478916504\n",
            "Iteration 57: log-loss 72.73297174413266\n",
            "Iteration 58: log-loss 72.72077020788383\n",
            "Iteration 59: log-loss 72.70929993067527\n",
            "Iteration 60: log-loss 72.69851416920346\n",
            "Iteration 61: log-loss 72.6883694178763\n",
            "Iteration 62: log-loss 72.67882516283659\n",
            "Iteration 63: log-loss 72.66984365660832\n",
            "Iteration 64: log-loss 72.66138971145386\n",
            "Iteration 65: log-loss 72.65343050973006\n",
            "Iteration 66: log-loss 72.6459354296996\n",
            "Iteration 67: log-loss 72.63887588541284\n",
            "Iteration 68: log-loss 72.63222517940656\n",
            "Iteration 69: log-loss 72.62595836709497\n",
            "Iteration 70: log-loss 72.62005213183036\n",
            "Iteration 71: log-loss 72.6144846697131\n",
            "Iteration 72: log-loss 72.60923558331645\n",
            "Iteration 73: log-loss 72.60428578356918\n",
            "Iteration 74: log-loss 72.59961739911\n",
            "Iteration 75: log-loss 72.59521369249053\n",
            "Iteration 76: log-loss 72.59105898266144\n",
            "Iteration 77: log-loss 72.58713857322503\n",
            "Iteration 78: log-loss 72.58343868598676\n",
            "Iteration 79: log-loss 72.57994639937759\n",
            "Iteration 80: log-loss 72.57664959135698\n",
            "Iteration 81: log-loss 72.57353688644231\n",
            "Iteration 82: log-loss 72.57059760653752\n",
            "Iteration 83: log-loss 72.56782172526606\n",
            "Iteration 84: log-loss 72.56519982553492\n",
            "Iteration 85: log-loss 72.56272306008205\n",
            "Iteration 86: log-loss 72.56038311477806\n",
            "Iteration 87: log-loss 72.55817217447448\n",
            "Iteration 88: log-loss 72.55608289120505\n",
            "Iteration 89: log-loss 72.55410835456678\n",
            "Iteration 90: log-loss 72.55224206411617\n",
            "Iteration 91: log-loss 72.55047790363352\n",
            "Iteration 92: log-loss 72.54881011711844\n",
            "Iteration 93: log-loss 72.54723328639068\n",
            "Iteration 94: log-loss 72.54574231017891\n",
            "Iteration 95: log-loss 72.54433238459352\n",
            "Iteration 96: log-loss 72.54299898488185\n",
            "Iteration 97: log-loss 72.5417378483767\n",
            "Iteration 98: log-loss 72.54054495855398\n",
            "Iteration 99: log-loss 72.53941653012077\n"
          ],
          "name": "stdout"
        },
        {
          "output_type": "display_data",
          "data": {
            "image/png": "[encoded data removed]",
            "text/plain": [
              "<Figure size 360x360 with 2 Axes>"
            ]
          },
          "metadata": {
            "tags": [],
            "needs_background": "light"
          }
        }
      ]
    },
    {
      "cell_type": "markdown",
      "metadata": {
        "id": "MDf1ZLAqpXDv"
      },
      "source": [
        "### Task 4"
      ]
    },
    {
      "cell_type": "code",
      "metadata": {
        "colab": {
          "base_uri": "https://localhost:8080/",
          "height": 0
        },
        "id": "e_1qR12BpZHn",
        "outputId": "ea291932-5340-435b-e1cd-604abea16df5"
      },
      "source": [
        "from tensorflow.keras.models import Sequential\n",
        "from tensorflow.keras.layers import Dense\n",
        "from tensorflow.keras.layers import Conv2D\n",
        "from tensorflow.keras.layers import Flatten\n",
        "from tensorflow.keras.layers import MaxPooling2D\n",
        "from tensorflow.keras.optimizers import SGD\n",
        "import cv2\n",
        "import csv\n",
        "from tensorflow.keras.utils import to_categorical\n",
        "from sklearn.model_selection import train_test_split\n",
        "from sklearn.preprocessing import MinMaxScaler\n",
        "\n",
        "\n",
        "# Implement model from task 2\n",
        "def model():\n",
        "  model = Sequential()\n",
        "\n",
        "  model.add(Conv2D(32, (5, 5), activation=\"relu\", padding=\"same\", input_shape=(64, 64,3))\n",
        "  model.add(MaxPooling2D(4, 4))\n",
        "  model.add(Conv2D(32, (5, 5), activation=\"relu\", padding=\"same\"))\n",
        "  model.add(MaxPooling2D(4, 4))\n",
        "  model.add(Flatten())\n",
        "  model.add(Dense(100, activation=\"relu\"))\n",
        "  model.add(Dense(9, activation=\"sigmoid\"))\n",
        "  opt = SGD(lr=0.01, momentum=0.9)\n",
        "  model.compile(optimizer=opt, loss=\"categorical_crossentropy\", metrics=[\"accuracy\"])\n",
        "  return model\n",
        "\n",
        "model = model()\n",
        "model.summary()\n",
        "\n"
      ],
      "execution_count": 12,
      "outputs": [
        {
          "output_type": "stream",
          "text": [
            "Model: \"sequential\"\n",
            "_________________________________________________________________\n",
            "Layer (type)                 Output Shape              Param #   \n",
            "=================================================================\n",
            "conv2d (Conv2D)              (None, 64, 64, 32)        2432      \n",
            "_________________________________________________________________\n",
            "max_pooling2d (MaxPooling2D) (None, 16, 16, 32)        0         \n",
            "_________________________________________________________________\n",
            "conv2d_1 (Conv2D)            (None, 16, 16, 32)        25632     \n",
            "_________________________________________________________________\n",
            "max_pooling2d_1 (MaxPooling2 (None, 4, 4, 32)          0         \n",
            "_________________________________________________________________\n",
            "flatten (Flatten)            (None, 512)               0         \n",
            "_________________________________________________________________\n",
            "dense (Dense)                (None, 100)               51300     \n",
            "_________________________________________________________________\n",
            "dense_1 (Dense)              (None, 9)                 909       \n",
            "=================================================================\n",
            "Total params: 80,273\n",
            "Trainable params: 80,273\n",
            "Non-trainable params: 0\n",
            "_________________________________________________________________\n"
          ],
          "name": "stdout"
        }
      ]
    },
    {
      "cell_type": "code",
      "metadata": {
        "id": "LjR6eFXIsObA"
      },
      "source": [
        "# Reuse data\n",
        "X = np.load('train_data.npy')\n",
        "y = np.load('train_label.npy')\n",
        "X = X.reshape(X.shape[0], 32, 32, 3)\n",
        "X_train, X_test, y_train, y_test = train_test_split(X, y, test_size=0.2, random_state=1)"
      ],
      "execution_count": 16,
      "outputs": []
    },
    {
      "cell_type": "code",
      "metadata": {
        "colab": {
          "base_uri": "https://localhost:8080/",
          "height": 0
        },
        "id": "pbotD-XIuRZw",
        "outputId": "0b694a0e-2ee9-4133-a112-c445805e9ba4"
      },
      "source": [
        "def model():\n",
        "  model = Sequential()\n",
        "\n",
        "  model.add(Conv2D(32, (3, 3), activation=\"relu\", padding=\"same\", input_shape=(32, 32,3)))\n",
        "  model.add(MaxPooling2D(2, 2))\n",
        "  model.add(Conv2D(32, (3, 3), activation=\"relu\", padding=\"same\"))\n",
        "  model.add(MaxPooling2D(2, 2))\n",
        "  model.add(Flatten())\n",
        "  model.add(Dense(100, activation=\"relu\"))\n",
        "  model.add(Dense(9, activation=\"sigmoid\"))\n",
        "  opt = SGD(lr=0.01, momentum=0.9)\n",
        "  model.compile(optimizer=opt, loss=\"categorical_crossentropy\", metrics=[\"accuracy\"])\n",
        "  return model\n",
        "model = model()\n",
        "model.fit(X_train, y_train, batch_size=64, epochs=20, validation_data=(X_test, y_test))"
      ],
      "execution_count": 19,
      "outputs": [
        {
          "output_type": "stream",
          "text": [
            "Epoch 1/20\n",
            "112/112 [==============================] - 10s 85ms/step - loss: 2.0105 - accuracy: 0.1905 - val_loss: 1.8702 - val_accuracy: 0.2755\n",
            "Epoch 2/20\n",
            "112/112 [==============================] - 10s 85ms/step - loss: 1.6547 - accuracy: 0.3645 - val_loss: 1.5802 - val_accuracy: 0.4310\n",
            "Epoch 3/20\n",
            "112/112 [==============================] - 9s 84ms/step - loss: 1.0724 - accuracy: 0.6101 - val_loss: 0.8016 - val_accuracy: 0.7183\n",
            "Epoch 4/20\n",
            "112/112 [==============================] - 9s 85ms/step - loss: 0.6249 - accuracy: 0.7799 - val_loss: 0.6505 - val_accuracy: 0.7761\n",
            "Epoch 5/20\n",
            "112/112 [==============================] - 9s 84ms/step - loss: 0.3651 - accuracy: 0.8784 - val_loss: 0.2951 - val_accuracy: 0.9024\n",
            "Epoch 6/20\n",
            "112/112 [==============================] - 9s 84ms/step - loss: 0.2482 - accuracy: 0.9169 - val_loss: 0.3768 - val_accuracy: 0.8810\n",
            "Epoch 7/20\n",
            "112/112 [==============================] - 10s 85ms/step - loss: 0.1755 - accuracy: 0.9430 - val_loss: 0.1899 - val_accuracy: 0.9343\n",
            "Epoch 8/20\n",
            "112/112 [==============================] - 10s 86ms/step - loss: 0.1311 - accuracy: 0.9593 - val_loss: 0.1949 - val_accuracy: 0.9349\n",
            "Epoch 9/20\n",
            "112/112 [==============================] - 10s 85ms/step - loss: 0.0887 - accuracy: 0.9712 - val_loss: 0.1803 - val_accuracy: 0.9416\n",
            "Epoch 10/20\n",
            "112/112 [==============================] - 10s 85ms/step - loss: 0.1241 - accuracy: 0.9627 - val_loss: 0.2085 - val_accuracy: 0.9349\n",
            "Epoch 11/20\n",
            "112/112 [==============================] - 10s 85ms/step - loss: 0.0623 - accuracy: 0.9820 - val_loss: 0.1000 - val_accuracy: 0.9703\n",
            "Epoch 12/20\n",
            "112/112 [==============================] - 10s 85ms/step - loss: 0.0315 - accuracy: 0.9930 - val_loss: 0.0932 - val_accuracy: 0.9725\n",
            "Epoch 13/20\n",
            "112/112 [==============================] - 10s 86ms/step - loss: 0.0355 - accuracy: 0.9913 - val_loss: 0.0779 - val_accuracy: 0.9809\n",
            "Epoch 14/20\n",
            "112/112 [==============================] - 10s 86ms/step - loss: 0.0269 - accuracy: 0.9933 - val_loss: 0.0864 - val_accuracy: 0.9764\n",
            "Epoch 15/20\n",
            "112/112 [==============================] - 10s 85ms/step - loss: 0.0276 - accuracy: 0.9937 - val_loss: 0.1006 - val_accuracy: 0.9736\n",
            "Epoch 16/20\n",
            "112/112 [==============================] - 10s 86ms/step - loss: 0.0129 - accuracy: 0.9969 - val_loss: 0.0986 - val_accuracy: 0.9719\n",
            "Epoch 17/20\n",
            "112/112 [==============================] - 10s 86ms/step - loss: 0.0116 - accuracy: 0.9975 - val_loss: 0.0739 - val_accuracy: 0.9826\n",
            "Epoch 18/20\n",
            "112/112 [==============================] - 10s 86ms/step - loss: 0.0065 - accuracy: 0.9990 - val_loss: 0.0654 - val_accuracy: 0.9843\n",
            "Epoch 19/20\n",
            "112/112 [==============================] - 10s 86ms/step - loss: 0.0055 - accuracy: 0.9993 - val_loss: 0.0624 - val_accuracy: 0.9865\n",
            "Epoch 20/20\n",
            "112/112 [==============================] - 10s 86ms/step - loss: 0.0041 - accuracy: 0.9997 - val_loss: 0.0620 - val_accuracy: 0.9860\n"
          ],
          "name": "stdout"
        },
        {
          "output_type": "execute_result",
          "data": {
            "text/plain": [
              "<tensorflow.python.keras.callbacks.History at 0x7f8075f20dd8>"
            ]
          },
          "metadata": {
            "tags": []
          },
          "execution_count": 19
        }
      ]
    }
  ]
}