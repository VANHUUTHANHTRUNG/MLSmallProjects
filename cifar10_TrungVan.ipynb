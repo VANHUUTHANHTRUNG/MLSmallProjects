{
  "nbformat": 4,
  "nbformat_minor": 0,
  "metadata": {
    "kernelspec": {
      "display_name": "Python 3",
      "language": "python",
      "name": "python3"
    },
    "language_info": {
      "codemirror_mode": {
        "name": "ipython",
        "version": 3
      },
      "file_extension": ".py",
      "mimetype": "text/x-python",
      "name": "python",
      "nbconvert_exporter": "python",
      "pygments_lexer": "ipython3",
      "version": "3.8.3"
    },
    "colab": {
      "name": "CIFAR-10_TrungVan.ipynb",
      "provenance": [],
      "collapsed_sections": []
    }
  },
  "cells": [
    {
      "cell_type": "code",
      "metadata": {
        "id": "NwBm-igCLe06",
        "outputId": "8b54edd0-a796-43c4-c62e-ddd6a47a3c62",
        "colab": {
          "base_uri": "https://localhost:8080/",
          "height": 87
        }
      },
      "source": [
        "!pip install ipython-autotime\n",
        "%load_ext autotime  "
      ],
      "execution_count": 5,
      "outputs": [
        {
          "output_type": "stream",
          "text": [
            "Requirement already satisfied: ipython-autotime in /usr/local/lib/python3.6/dist-packages (0.1)\n",
            "The autotime extension is already loaded. To reload it, use:\n",
            "  %reload_ext autotime\n",
            "time: 2.53 s\n"
          ],
          "name": "stdout"
        }
      ]
    },
    {
      "cell_type": "code",
      "metadata": {
        "id": "j7yTVMwZJziD",
        "outputId": "2b939473-1a47-477b-c65a-9dac48743250",
        "colab": {
          "base_uri": "https://localhost:8080/",
          "height": 72
        }
      },
      "source": [
        "from google.colab import drive\n",
        "drive.mount('/content/drive')"
      ],
      "execution_count": 6,
      "outputs": [
        {
          "output_type": "stream",
          "text": [
            "Drive already mounted at /content/drive; to attempt to forcibly remount, call drive.mount(\"/content/drive\", force_remount=True).\n",
            "time: 11 ms\n"
          ],
          "name": "stdout"
        }
      ]
    },
    {
      "cell_type": "code",
      "metadata": {
        "id": "FNIQPpLTJv4s",
        "outputId": "d0037966-af6b-453a-a588-b497216df77a",
        "colab": {
          "base_uri": "https://localhost:8080/",
          "height": 34
        }
      },
      "source": [
        "import pickle\n",
        "import numpy as np\n",
        "from scipy import stats\n",
        "import matplotlib.pyplot as plt\n",
        "from random import random\n",
        "from skimage.transform import rescale, resize, downscale_local_mean\n",
        "import time\n",
        "\n",
        "\n",
        "def unpickle(file):\n",
        "    with open(file, 'rb') as f:\n",
        "        dict = pickle.load(f, encoding=\"latin1\")\n",
        "    return dict\n",
        "\n",
        "def class_acc(pred, gt):\n",
        "    \"\"\"\n",
        "    Return classification accuracy\n",
        "    \"\"\"\n",
        "    \n",
        "    pred = pred.reshape(pred.size)\n",
        "    gt = gt.reshape(gt.size)\n",
        "    true_class = np.count_nonzero(pred==gt)\n",
        "\n",
        "    return true_class/gt.size"
      ],
      "execution_count": 7,
      "outputs": [
        {
          "output_type": "stream",
          "text": [
            "time: 705 ms\n"
          ],
          "name": "stdout"
        }
      ]
    },
    {
      "cell_type": "code",
      "metadata": {
        "id": "AGy9vXd0Jv4w",
        "outputId": "c2ab0321-7a6f-48d2-8819-e061c6f2e855",
        "colab": {
          "base_uri": "https://localhost:8080/",
          "height": 34
        }
      },
      "source": [
        "# Load data\n",
        "\n",
        "# Test data\n",
        "datadict = unpickle('/content/drive/My Drive/Data/cifar-10-python.tar/cifar-10-batches-py/test_batch')\n",
        "\n",
        "X = datadict[\"data\"]\n",
        "Y = datadict[\"labels\"]\n",
        "\n",
        "X_test = X.reshape(10000, 3, 32, 32).transpose(0,2,3,1).astype(\"uint8\")\n",
        "Y_test = np.array(Y)\n",
        "\n",
        "#Training data\n",
        "X_train = np.zeros((50000, 32, 32, 3))\n",
        "Y_train = np.zeros(50000)\n",
        "for i in range (5):\n",
        "    filename = '/content/drive/My Drive/Data/cifar-10-python.tar/cifar-10-batches-py/data_batch_' + str(i+1)\n",
        "    datatrain = unpickle(filename)\n",
        "    x_train = datatrain[\"data\"]\n",
        "    y_train = datatrain[\"labels\"]\n",
        "    x_train = x_train.reshape(10000, 3, 32, 32).transpose(0,2,3,1).astype(\"uint8\")\n",
        "    y_train = np.array(y_train)\n",
        "\n",
        "    X_train[10000*i : 10000*(i+1), :, :, :] = x_train\n",
        "    Y_train[10000*i : 10000*(i+1)] = y_train"
      ],
      "execution_count": 8,
      "outputs": [
        {
          "output_type": "stream",
          "text": [
            "time: 4.48 s\n"
          ],
          "name": "stdout"
        }
      ]
    },
    {
      "cell_type": "code",
      "metadata": {
        "id": "dsBjvYlWJv4y",
        "outputId": "028f0c10-e1ba-4141-c660-14129865e8d4",
        "colab": {
          "base_uri": "https://localhost:8080/",
          "height": 34
        }
      },
      "source": [
        "X_train = X_train.astype(\"uint8\")\n",
        "# X_train.dtype"
      ],
      "execution_count": 9,
      "outputs": [
        {
          "output_type": "stream",
          "text": [
            "time: 271 ms\n"
          ],
          "name": "stdout"
        }
      ]
    },
    {
      "cell_type": "markdown",
      "metadata": {
        "id": "Nx-TgQBiJv49"
      },
      "source": [
        "# Exercise 1"
      ]
    },
    {
      "cell_type": "code",
      "metadata": {
        "id": "WTvHkcMnJv49",
        "outputId": "44a01e55-79bb-45b1-fb1f-fc6391e7a83d",
        "colab": {
          "base_uri": "https://localhost:8080/",
          "height": 34
        }
      },
      "source": [
        "# Training model\n",
        "\n",
        "def cifar10_color(X):\n",
        "    return np.mean(X, axis=(1,2))\n",
        "\n",
        "def cifar10_naivebayes_learn(Xf, Y):\n",
        "    mu = np.zeros((10, 3))\n",
        "    sigma = np.zeros((10, 3))\n",
        "    p = np.zeros(10)\n",
        "    \n",
        "    for c in range(10):\n",
        "        x_class = Xf[Y == c, :]\n",
        "        print(x_class)\n",
        "        mu[c,:] = np.mean(x_class, axis=0)\n",
        "        sigma[c,:] = np.std(x_class, axis=0)\n",
        "        p[c] = x_class.shape[0]/Xf.shape[0]\n",
        "\n",
        "    return mu, sigma, p\n",
        "    \n",
        "def cifar10_classiﬁer_naivebayes(x, mu, sigma, p): \n",
        "    red = np.mean(x[:,:, 0])\n",
        "    green = np.mean(x[:,:, 1])\n",
        "    blue = np.mean(x[:,:, 2])\n",
        "\n",
        "    class_prob = np.zeros(10)\n",
        "    for c in range(10):   \n",
        "        p_red = stats.norm.pdf(red, mu[c, 0], sigma[c, 0])\n",
        "        p_green = stats.norm.pdf(green, mu[c, 1], sigma[c, 1])\n",
        "        p_blue = stats.norm.pdf(blue, mu[c, 2], sigma[c, 2])\n",
        "        \n",
        "        class_prob[c] = p_red * p_green * p_blue * p[c]\n",
        "    \n",
        "    return np.argmax(class_prob)"
      ],
      "execution_count": 10,
      "outputs": [
        {
          "output_type": "stream",
          "text": [
            "time: 19.3 ms\n"
          ],
          "name": "stdout"
        }
      ]
    },
    {
      "cell_type": "code",
      "metadata": {
        "id": "Ax0H1XxHJv5A",
        "outputId": "f516dc10-80a4-403e-e8a0-56c2fe4d9e8a",
        "colab": {
          "base_uri": "https://localhost:8080/",
          "height": 34
        }
      },
      "source": [
        "Xf = cifar10_color(X_train)"
      ],
      "execution_count": 11,
      "outputs": [
        {
          "output_type": "stream",
          "text": [
            "time: 1.12 s\n"
          ],
          "name": "stdout"
        }
      ]
    },
    {
      "cell_type": "code",
      "metadata": {
        "id": "MlJz6xCcJv5C",
        "outputId": "c1dfa7f3-f356-4a08-c88d-b511bb023407",
        "colab": {
          "base_uri": "https://localhost:8080/",
          "height": 1000
        }
      },
      "source": [
        "mu, sigma, p = cifar10_naivebayes_learn(Xf, Y_train)"
      ],
      "execution_count": 12,
      "outputs": [
        {
          "output_type": "stream",
          "text": [
            "[[147.90625    148.65234375 149.25488281]\n",
            " [133.91992188 124.71875    120.66113281]\n",
            " [142.69726562 120.56445312  65.90625   ]\n",
            " ...\n",
            " [161.39746094 146.61132812 131.5       ]\n",
            " [113.70605469 109.92773438 100.88378906]\n",
            " [150.58007812 156.07226562 158.22460938]]\n",
            "[[ 92.02148438 102.40039062 116.00292969]\n",
            " [142.44042969  70.78027344  57.77832031]\n",
            " [ 96.9140625  100.22851562  96.49414062]\n",
            " ...\n",
            " [119.859375   136.49609375 130.01171875]\n",
            " [162.17480469 168.83398438 177.32128906]\n",
            " [138.75292969 129.59667969 127.29101562]]\n",
            "[[120.53125    152.91601562  85.37792969]\n",
            " [ 79.76074219  72.46191406  75.79785156]\n",
            " [140.10742188 124.43847656 117.75488281]\n",
            " ...\n",
            " [122.15527344 103.52441406  85.5703125 ]\n",
            " [158.11132812 156.56054688 153.2421875 ]\n",
            " [133.1875     147.11132812 174.2421875 ]]\n",
            "[[ 78.13671875  71.56347656  61.79589844]\n",
            " [ 97.328125    87.96582031  81.48730469]\n",
            " [214.31054688  38.91796875  58.74414062]\n",
            " ...\n",
            " [111.25488281  97.81054688  72.20703125]\n",
            " [ 46.0625      38.78515625  30.63574219]\n",
            " [151.859375   118.28027344 108.23339844]]\n",
            "[[ 99.97949219  83.27929688  57.4140625 ]\n",
            " [ 77.74609375  81.19335938  62.39453125]\n",
            " [172.25683594 175.8984375  180.5625    ]\n",
            " ...\n",
            " [129.90820312 116.69238281 111.15429688]\n",
            " [ 88.3203125   92.49414062  94.35449219]\n",
            " [173.68945312 168.63671875 164.36132812]]\n",
            "[[ 68.5703125   70.31835938  71.43847656]\n",
            " [126.45800781 117.69628906  99.37890625]\n",
            " [138.81542969 106.04589844  92.859375  ]\n",
            " ...\n",
            " [118.93457031 110.40917969 109.42382812]\n",
            " [113.34765625 113.47265625 109.421875  ]\n",
            " [156.83398438 142.61621094 124.11816406]]\n",
            "[[141.20507812 105.09960938  64.03710938]\n",
            " [110.5390625  132.42871094 114.32128906]\n",
            " [ 81.453125    70.77441406  54.03027344]\n",
            " ...\n",
            " [ 92.52832031  88.01757812  59.70410156]\n",
            " [110.24121094 101.68261719  24.96191406]\n",
            " [208.63085938 159.24707031  70.0859375 ]]\n",
            "[[132.45214844 134.77441406  97.86914062]\n",
            " [156.42480469 137.73535156 129.2265625 ]\n",
            " [120.62011719 142.34472656 134.04003906]\n",
            " ...\n",
            " [119.43847656 101.21875    110.50195312]\n",
            " [162.04882812 151.26171875 136.13574219]\n",
            " [143.53027344 138.18164062 137.04785156]]\n",
            "[[109.16503906 156.23730469 188.98339844]\n",
            " [ 94.63964844 122.50292969 145.04980469]\n",
            " [123.140625   127.40722656 128.89746094]\n",
            " ...\n",
            " [143.85644531 155.55175781 168.03613281]\n",
            " [123.99414062 130.79296875 109.27929688]\n",
            " [133.50585938 146.9375     161.72949219]]\n",
            "[[130.19921875 130.36523438 130.47753906]\n",
            " [133.484375   135.15234375 132.58496094]\n",
            " [ 93.81445312  98.91308594  86.22460938]\n",
            " ...\n",
            " [121.03710938 110.77148438  75.32128906]\n",
            " [120.0546875  119.109375   117.53710938]\n",
            " [ 82.53027344 109.65039062 122.93359375]]\n",
            "time: 22.5 ms\n"
          ],
          "name": "stdout"
        }
      ]
    },
    {
      "cell_type": "code",
      "metadata": {
        "tags": [],
        "id": "0zbLTWApJv5E",
        "outputId": "e94609fd-17fb-4de9-926b-04f200af2723",
        "colab": {
          "base_uri": "https://localhost:8080/",
          "height": 34
        }
      },
      "source": [
        "pred = np.zeros(len(X_test))\n",
        "for i in range(len(X_test)):\n",
        "    pred[i] = cifar10_classiﬁer_naivebayes(X_test[i,:,:,:], mu, sigma, p)"
      ],
      "execution_count": 13,
      "outputs": [
        {
          "output_type": "stream",
          "text": [
            "time: 30.7 s\n"
          ],
          "name": "stdout"
        }
      ]
    },
    {
      "cell_type": "code",
      "metadata": {
        "tags": [],
        "id": "mnLZGpUsJv5G",
        "outputId": "a1e3f688-0eda-434e-bbf6-25b90308417b",
        "colab": {
          "base_uri": "https://localhost:8080/",
          "height": 34
        }
      },
      "source": [
        "class_acc(pred, Y_test)"
      ],
      "execution_count": 14,
      "outputs": [
        {
          "output_type": "execute_result",
          "data": {
            "text/plain": [
              "0.1947"
            ]
          },
          "metadata": {
            "tags": []
          },
          "execution_count": 14
        },
        {
          "output_type": "stream",
          "text": [
            "time: 5.71 ms\n"
          ],
          "name": "stdout"
        }
      ]
    },
    {
      "cell_type": "markdown",
      "metadata": {
        "id": "UwBCfFiOJv5I"
      },
      "source": [
        "# Exercise 2"
      ]
    },
    {
      "cell_type": "code",
      "metadata": {
        "id": "yNXX9Iv7Jv5I",
        "outputId": "3e29b16e-b8b5-49fd-c588-36e3208284f0",
        "colab": {
          "base_uri": "https://localhost:8080/",
          "height": 34
        }
      },
      "source": [
        "# Pre-processing data\n",
        "def cifar10_color_resize(X, k=1):\n",
        "    return resize(X, (X.shape[0], k, k, 3))\n",
        "\n",
        "# Training model\n",
        "\n",
        "def cifar_10_bayes_learn(Xf, Y):\n",
        "    num_features = Xf.shape[1]\n",
        "    mu = np.zeros((10, num_features))\n",
        "    sigma = np.zeros((10, num_features, num_features))\n",
        "    p = np.zeros(10)\n",
        "\n",
        "    for c in range(10):\n",
        "        x_class = Xf[Y == c, :]\n",
        "        mu[c,:] = np.mean(x_class, axis=0)\n",
        "        sigma[c,:] = np.cov(x_class.T)\n",
        "        p[c] = x_class.shape[0]/Xf.shape[0]\n",
        "\n",
        "    return mu, sigma, p\n",
        "\n",
        "\n",
        "def cifar10_classiﬁer_bayes(x, mu, sigma, p):   \n",
        "    pred = np.zeros((x.shape[0], 10))\n",
        "    for c in range(10):  \n",
        "        pred[:, c] = stats.multivariate_normal.logpdf(x, mean=mu[c, :], cov=sigma[c, :, :]) * p[c] \n",
        "    return(np.argmax(pred, axis=1))\n"
      ],
      "execution_count": 15,
      "outputs": [
        {
          "output_type": "stream",
          "text": [
            "time: 18.5 ms\n"
          ],
          "name": "stdout"
        }
      ]
    },
    {
      "cell_type": "code",
      "metadata": {
        "id": "RDDsi8R2Jv5L",
        "outputId": "86ae6986-399e-47c7-eca3-a4075ce54e75",
        "colab": {
          "base_uri": "https://localhost:8080/",
          "height": 34
        }
      },
      "source": [
        "Xf_2 = cifar10_color_resize(X_train)\n",
        "X_test_resize = cifar10_color_resize(X_test).reshape(X_test.shape[0], -1)\n",
        "mu, sigma, p = cifar_10_bayes_learn(Xf_2.reshape(Xf_2.shape[0], -1), Y_train)"
      ],
      "execution_count": 16,
      "outputs": [
        {
          "output_type": "stream",
          "text": [
            "time: 30.5 s\n"
          ],
          "name": "stdout"
        }
      ]
    },
    {
      "cell_type": "code",
      "metadata": {
        "id": "e4Ek_uG5Jv5M",
        "outputId": "de510f3e-2b26-429c-e962-ab25d14e8ff0",
        "colab": {
          "base_uri": "https://localhost:8080/",
          "height": 52
        }
      },
      "source": [
        "predict = cifar10_classiﬁer_bayes(X_test_resize, mu, sigma, p)\n",
        "print(class_acc(predict, Y_test))"
      ],
      "execution_count": 17,
      "outputs": [
        {
          "output_type": "stream",
          "text": [
            "0.2479\n",
            "time: 23.9 ms\n"
          ],
          "name": "stdout"
        }
      ]
    },
    {
      "cell_type": "markdown",
      "metadata": {
        "id": "cd7p5zrpJv5O"
      },
      "source": [
        "# Exercise 3\n"
      ]
    },
    {
      "cell_type": "code",
      "metadata": {
        "id": "kwZN6YEYJv5O",
        "outputId": "37658725-9d82-4aa0-dfa6-f0a4c29a6e63",
        "colab": {
          "base_uri": "https://localhost:8080/",
          "height": 351
        }
      },
      "source": [
        "MAX_SCALE = 6\n",
        "accruacy_on_scale = []\n",
        "TRAINING_SIZE = X_train.shape[0]\n",
        "TEST_SIZE = X_test.shape[0]\n",
        "\n",
        "for scale in range(MAX_SCALE):\n",
        "    #Preprocessing data\n",
        "    start_time = time.time()\n",
        "    k = 2**scale\n",
        "    Xf_3 = cifar10_color_resize(X_train, k)\n",
        "    X_test_resize_3 = cifar10_color_resize(X_test, k).reshape(TEST_SIZE, -1)\n",
        "    print(\"Preprocessing in %s seconds\" % (time.time() - start_time))\n",
        "\n",
        "    # Training\n",
        "    start_time = time.time()\n",
        "    mu_3, sigma_3, p_3 = cifar_10_bayes_learn(Xf_3.reshape(TRAINING_SIZE, -1), Y_train)\n",
        "    \n",
        "    # Predicting\n",
        "    predict = cifar10_classiﬁer_bayes(X_test_resize_3, mu_3, sigma_3, p_3)\n",
        "    \n",
        "    acc = class_acc(predict, Y_test)\n",
        "    accruacy_on_scale.append(acc)\n",
        "    print(f\"{k}x{k}-image ->\", acc)\n",
        "    \n",
        "    # End running time\n",
        "    print(\"run time in seconds:\",(time.time() - start_time))"
      ],
      "execution_count": 18,
      "outputs": [
        {
          "output_type": "stream",
          "text": [
            "Preprocessing in 30.24412512779236 seconds\n",
            "1x1-image -> 0.2479\n",
            "run time in seconds: 0.01532435417175293\n",
            "Preprocessing in 14.86063838005066 seconds\n",
            "2x2-image -> 0.3105\n",
            "run time in seconds: 0.03487849235534668\n",
            "Preprocessing in 7.75932502746582 seconds\n",
            "4x4-image -> 0.4022\n",
            "run time in seconds: 0.1116037368774414\n",
            "Preprocessing in 6.878480911254883 seconds\n",
            "8x8-image -> 0.4173\n",
            "run time in seconds: 1.0681490898132324\n",
            "Preprocessing in 12.997158527374268 seconds\n",
            "16x16-image -> 0.4346\n",
            "run time in seconds: 7.919282913208008\n",
            "Preprocessing in 44.12567710876465 seconds\n",
            "32x32-image -> 0.3623\n",
            "run time in seconds: 170.46650052070618\n",
            "time: 4min 56s\n"
          ],
          "name": "stdout"
        }
      ]
    },
    {
      "cell_type": "code",
      "metadata": {
        "id": "oxu02WfgNZlF",
        "outputId": "041c688a-4879-411a-9df1-aaed46c65a61",
        "colab": {
          "base_uri": "https://localhost:8080/",
          "height": 318
        }
      },
      "source": [
        "a = np.array([2**x for x in range(MAX_SCALE)])\n",
        "print(accruacy_on_scale)\n",
        "plt.plot(a,accruacy_on_scale)\n",
        "plt.axis([0,2**(MAX_SCALE-1),0,1])\n",
        "plt.xlabel('Accuracy')\n",
        "plt.ylabel('Image sizex')\n",
        "plt.show()"
      ],
      "execution_count": 26,
      "outputs": [
        {
          "output_type": "stream",
          "text": [
            "[0.2479, 0.3105, 0.4022, 0.4173, 0.4346, 0.3623]\n"
          ],
          "name": "stdout"
        },
        {
          "output_type": "display_data",
          "data": {
            "image/png": "[encoded data removed]",
            "text/plain": [
              "<Figure size 432x288 with 1 Axes>"
            ]
          },
          "metadata": {
            "tags": [],
            "needs_background": "light"
          }
        },
        {
          "output_type": "stream",
          "text": [
            "time: 153 ms\n"
          ],
          "name": "stdout"
        }
      ]
    }
  ]
}