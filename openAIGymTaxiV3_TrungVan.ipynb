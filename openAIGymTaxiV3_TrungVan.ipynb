{
  "nbformat": 4,
  "nbformat_minor": 0,
  "metadata": {
    "colab": {
      "name": "openAI_gym_taxi_v3.ipynb",
      "provenance": []
    },
    "kernelspec": {
      "name": "python3",
      "display_name": "Python 3"
    },
    "accelerator": "GPU"
  },
  "cells": [
    {
      "cell_type": "code",
      "metadata": {
        "id": "9XQBOk7RgsQJ",
        "outputId": "6c1917f3-1c44-4e46-f77a-02e85211f385",
        "colab": {
          "base_uri": "https://localhost:8080/"
        }
      },
      "source": [
        "!pip install ipython-autotime\n",
        "%load_ext autotime\n",
        "%pylab inline \n",
        "\n",
        "import numpy as np\n",
        "import gym\n",
        "import random\n",
        "import time"
      ],
      "execution_count": 60,
      "outputs": [
        {
          "output_type": "stream",
          "text": [
            "Requirement already satisfied: ipython-autotime in /usr/local/lib/python3.6/dist-packages (0.1)\n",
            "The autotime extension is already loaded. To reload it, use:\n",
            "  %reload_ext autotime\n",
            "Populating the interactive namespace from numpy and matplotlib\n",
            "time: 2.04 s\n"
          ],
          "name": "stdout"
        },
        {
          "output_type": "stream",
          "text": [
            "/usr/local/lib/python3.6/dist-packages/IPython/core/magics/pylab.py:161: UserWarning: pylab import has clobbered these variables: ['info', 'random', 'gamma', 'step']\n",
            "`%matplotlib` prevents importing * from pylab and numpy\n",
            "  \"\\n`%matplotlib` prevents importing * from pylab and numpy\"\n"
          ],
          "name": "stderr"
        }
      ]
    },
    {
      "cell_type": "code",
      "metadata": {
        "id": "l8_WBMS6iU31",
        "outputId": "25a449b5-4bb8-4c55-87fb-0aef27b66938",
        "colab": {
          "base_uri": "https://localhost:8080/"
        }
      },
      "source": [
        "# Environment\n",
        "env = gym.make(\"Taxi-v3\")\n",
        "\n",
        "# Training parameters for Q learning\n",
        "alpha = 0.7                   # Learning rate\n",
        "gamma = 0.6                   # Future reward discount factor\n",
        "\n",
        "num_of_episodes = 10000        # Total episodes\n",
        "num_of_steps = 500            # per each episode\n",
        "\n",
        "# Exploration parameters\n",
        "epsilon = 1                 # Exploration rate\n",
        "max_epsilon = 1.0             # Exploration probability at start\n",
        "min_epsilon = 0.01            # Minimum exploration probability \n",
        "decay_rate = 0.01             # Exponential decay rate for exploration prob\n",
        "\n",
        "# Get to know the environment\n",
        "action_size = env.action_space.n\n",
        "print(\"Action size \", action_size)\n",
        "\n",
        "state_size = env.observation_space.n\n",
        "print(\"State size \", state_size)\n"
      ],
      "execution_count": 90,
      "outputs": [
        {
          "output_type": "stream",
          "text": [
            "Action size  6\n",
            "State size  500\n",
            "time: 72.7 ms\n"
          ],
          "name": "stdout"
        }
      ]
    },
    {
      "cell_type": "code",
      "metadata": {
        "id": "tpfO6Eg8j7CZ",
        "outputId": "70e07acf-2448-45d2-ecb1-7617342f20f8",
        "colab": {
          "base_uri": "https://localhost:8080/"
        }
      },
      "source": [
        "# Q tables for rewards\n",
        "Q_reward = np.zeros((state_size,action_size))"
      ],
      "execution_count": 91,
      "outputs": [
        {
          "output_type": "stream",
          "text": [
            "time: 1.13 ms\n"
          ],
          "name": "stdout"
        }
      ]
    },
    {
      "cell_type": "code",
      "metadata": {
        "id": "XwXJRTDhi0tl",
        "outputId": "42985abd-907e-4b6c-a0c1-a7e1baf6741f",
        "colab": {
          "base_uri": "https://localhost:8080/"
        }
      },
      "source": [
        "# Training w/ random sampling of actions\n",
        "# YOU WRITE YOUR CODE HERE\n",
        "\n",
        "for episode in range(num_of_episodes):\n",
        "  # Reset the environment\n",
        "  state = env.reset()\n",
        "  step = 0\n",
        "  done = False\n",
        "    \n",
        "  for step in range(num_of_steps):\n",
        "    # 3. Choose an action a in the current world state (s)\n",
        "    ## First we randomize a number\n",
        "    exp_exp_tradeoff = random.uniform(0,1)\n",
        "        \n",
        "    ## If this number > greater than epsilon --> exploitation (taking the biggest Q value for this state)\n",
        "    if exp_exp_tradeoff > epsilon:\n",
        "      action = np.argmax(Q_reward[state,:])\n",
        "        \n",
        "    # Else doing a random choice --> exploration\n",
        "    else:\n",
        "      action = env.action_space.sample()\n",
        "        \n",
        "    # Take the action (a) and observe the outcome state(s') and reward (r)\n",
        "    new_state, reward, done, info = env.step(action)\n",
        "\n",
        "    # Update Q(s,a):= Q(s,a) + alpha * [R(s,a) + gamma * max Q(s',a') - Q(s,a)]\n",
        "    Q_reward[state, action] = Q_reward[state, action] + alpha * (reward + gamma * np.max(Q_reward[new_state, :]) - Q_reward[state, action])\n",
        "                \n",
        "    # Our new state is state\n",
        "    state = new_state\n",
        "        \n",
        "    # If done : finish episode\n",
        "    if done == True:\n",
        "      # print('solved!') \n",
        "      break\n",
        "\n",
        "  episode += 1\n",
        "    # Reduce epsilon (because we need less and less exploration)\n",
        "  epsilon = min_epsilon + (max_epsilon - min_epsilon)*np.exp(-decay_rate*episode)\n",
        "\n",
        "reward_board = []\n",
        "action_board = []\n",
        "\n",
        "test_episodes = 10\n",
        "test_step = 50\n",
        "\n",
        "for episode in range(test_episodes):\n",
        "  state = env.reset()\n",
        "  step = 0\n",
        "  done = False\n",
        "  total_rewards = 0\n",
        "  action_count = 0\n",
        "  for step in range(test_step):\n",
        "    action_count += 1\n",
        "    action = np.argmax(Q_reward[state,:])\n",
        "        \n",
        "    new_state, reward, done, info = env.step(action)\n",
        "        \n",
        "    total_rewards += reward\n",
        "        \n",
        "    if done == True:\n",
        "      reward_board.append(total_rewards)\n",
        "      action_board.append(action_count)\n",
        "      break\n",
        "    state = new_state\n",
        "\n",
        "\n",
        "env.close()\n",
        "reward_board = np.array(reward_board)\n",
        "action_board = np.array(action_board)\n",
        "print(\"Average total reward: \",np.average(reward_board))\n",
        "print(\"Average action number: \",np.average(action_board))"
      ],
      "execution_count": 93,
      "outputs": [
        {
          "output_type": "stream",
          "text": [
            "Average total reward:  8.5\n",
            "Average action number:  12.5\n",
            "time: 3.18 s\n"
          ],
          "name": "stdout"
        }
      ]
    }
  ]
}