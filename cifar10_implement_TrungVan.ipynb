{
 "cells": [
  {
   "cell_type": "code",
   "execution_count": 326,
   "metadata": {},
   "outputs": [],
   "source": [
    "import pickle\n",
    "import numpy as np\n",
    "import matplotlib.pyplot as plt\n",
    "from random import random\n",
    "from scipy.spatial import distance"
   ]
  },
  {
   "cell_type": "code",
   "execution_count": 337,
   "metadata": {},
   "outputs": [],
   "source": [
    "def unpickle(file):\n",
    "    with open(file, 'rb') as f:\n",
    "        dict = pickle.load(f, encoding=\"latin1\")\n",
    "    return dict\n",
    "\n",
    "def create_train_data(path):\n",
    "    path = path + 'data_batch_'\n",
    "    \n",
    "    tr_X = np.zeros((50000,32,32,3))\n",
    "    tr_Y = np.zeros(50000)\n",
    "    for i in range(5):\n",
    "        temp_dict = unpickle(path + str(i+1))\n",
    "        temp_tr_X = np.array(temp_dict['data']).reshape(10000, 3, 32, 32).transpose(0,2,3,1).astype(\"uint8\")\n",
    "        temp_tr_Y = np.array(temp_dict['labels'])\n",
    "        \n",
    "        tr_X[10000*i:10000*(i+1),:,:,:] = temp_tr_X\n",
    "        tr_Y[10000*i:10000*(i+1)] = temp_tr_Y\n",
    "        \n",
    "#         if i == 1:\n",
    "#             tr_X = temp_tr_X\n",
    "#             tr_Y = temp_tr_Y\n",
    "#         else:\n",
    "#             tr_X = np.append(tr_X,temp_tr_X,axis=0)\n",
    "#             tr_Y = np.append(tr_Y,temp_tr_Y,axis=0)\n",
    "    print(tr_X.shape)\n",
    "    print(tr_Y.shape)\n",
    "    return tr_X,tr_Y\n",
    "\n",
    "def create_test_data(path):\n",
    "    datadict = unpickle(path + 'test_batch')\n",
    "\n",
    "    test_X = datadict[\"data\"]\n",
    "    test_Y = datadict[\"labels\"]\n",
    "\n",
    "    test_X = test_X.reshape(10000, 3, 32, 32).transpose(0,2,3,1).astype(\"uint8\")\n",
    "    test_Y = np.array(test_Y)\n",
    "    return test_X,test_Y\n",
    "\n",
    "def create_label_dict(path):\n",
    "    labeldict = unpickle(path + 'batches.meta')\n",
    "    label_names = labeldict[\"label_names\"]\n",
    "    return label_names\n",
    "\n",
    "'''\n",
    "Evaluating Function\n",
    "'''\n",
    "def class_acc(pred,gt):\n",
    "    return np.sum(pred == gt)/pred.shape[0]\n",
    "\n",
    "'''\n",
    "Random Classifier Function\n",
    "'''\n",
    "def cifar10_classifier_random(x):\n",
    "    pred = np.random.randint(0,10,size = x.shape[0])\n",
    "    return pred\n",
    "\n",
    "\n",
    "'''\n",
    "1-NN Classifier Function\n",
    "'''\n",
    "## TODO: implement 1nn classifier, checked euclidean distance\n",
    "def cifar10_classifier_1nn(X,trdata,trlabels):\n",
    "    # X ~ test_X: input data used for classifying\n",
    "    Y = np.array([])\n",
    "    for x in X:\n",
    "        dist_per_test = np.sum(np.square(x-trdata),axis=(1,2,3))\n",
    "#         print(dist_per_test.shape)\n",
    "#         print(dist_per_test)\n",
    "        label_ind = np.argmin(dist_per_test)\n",
    "        Y = np.append(Y,trlabels[label_ind])\n",
    "    return Y"
   ]
  },
  {
   "cell_type": "code",
   "execution_count": 338,
   "metadata": {},
   "outputs": [
    {
     "name": "stdout",
     "output_type": "stream",
     "text": [
      "(50000, 32, 32, 3)\n",
      "(50000,)\n"
     ]
    }
   ],
   "source": [
    "# datapath = '/home/trungvan/worktemp/cifar-10-python/cifar-10-batches-py/' ## laptop\n",
    "datapath = 'C:/Users/vanhut1/AppData/cifar-10-python.tar/cifar-10-batches-py/' ## Workstation\n",
    "\n",
    "label_names = create_label_dict(datapath)\n",
    "tr_X,tr_Y = create_train_data(datapath)\n",
    "test_X,test_Y = create_test_data(datapath)"
   ]
  },
  {
   "cell_type": "code",
   "execution_count": 339,
   "metadata": {},
   "outputs": [
    {
     "name": "stdout",
     "output_type": "stream",
     "text": [
      "Precision of 1nn classifier - test-data (n = 100):  13.0 %\n"
     ]
    }
   ],
   "source": [
    "# Test with test-data\n",
    "n = 100\n",
    "print('Precision of 1nn classifier - test-data (n = {}): '.format(n),class_acc(cifar10_classifier_1nn(test_X[:n],tr_X[:n],tr_Y[:n]),test_Y[:n])*100,\"%\")"
   ]
  },
  {
   "cell_type": "code",
   "execution_count": 340,
   "metadata": {},
   "outputs": [
    {
     "name": "stdout",
     "output_type": "stream",
     "text": [
      "Precision of random classifier:  0.0983\n"
     ]
    }
   ],
   "source": [
    "# Test evaluate function:\n",
    "print('Precision of random classifier: ',class_acc(cifar10_classifier_random(test_X),test_Y))"
   ]
  },
  {
   "cell_type": "code",
   "execution_count": 341,
   "metadata": {},
   "outputs": [
    {
     "name": "stdout",
     "output_type": "stream",
     "text": [
      "Precision of 1nn classifier - train-data should be 100%:  100.0 %\n"
     ]
    }
   ],
   "source": [
    "# Test with train-data\n",
    "print('Precision of 1nn classifier - train-data should be 100%: ',class_acc(cifar10_classifier_1nn(tr_X[:100],tr_X[0:100],tr_Y[0:100]),tr_Y[0:100])*100,\"%\")"
   ]
  },
  {
   "cell_type": "code",
   "execution_count": 344,
   "metadata": {},
   "outputs": [
    {
     "name": "stdout",
     "output_type": "stream",
     "text": [
      "Precision of 1nn classifier - test-data (n = 10000): \n",
      "28.77 %\n"
     ]
    }
   ],
   "source": [
    "n = 10000\n",
    "print('Precision of 1nn classifier - test-data (n = {}): '.format(n))\n",
    "print(class_acc(cifar10_classifier_1nn(test_X[0:n],tr_X[0:n],tr_Y[0:n]),test_Y[0:n])*100,\"%\")"
   ]
  },
  {
   "cell_type": "code",
   "execution_count": null,
   "metadata": {},
   "outputs": [],
   "source": []
  },
  {
   "cell_type": "code",
   "execution_count": null,
   "metadata": {},
   "outputs": [],
   "source": []
  }
 ],
 "metadata": {
  "kernelspec": {
   "display_name": "Python 3",
   "language": "python",
   "name": "python3"
  },
  "language_info": {
   "codemirror_mode": {
    "name": "ipython",
    "version": 3
   },
   "file_extension": ".py",
   "mimetype": "text/x-python",
   "name": "python",
   "nbconvert_exporter": "python",
   "pygments_lexer": "ipython3",
   "version": "3.8.3"
  }
 },
 "nbformat": 4,
 "nbformat_minor": 4
}
